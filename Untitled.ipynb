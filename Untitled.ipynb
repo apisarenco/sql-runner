{
 "cells": [
  {
   "cell_type": "code",
   "execution_count": 1,
   "metadata": {},
   "outputs": [],
   "source": [
    "import sqlparse"
   ]
  },
  {
   "cell_type": "code",
   "execution_count": 2,
   "metadata": {},
   "outputs": [],
   "source": [
    "import re"
   ]
  },
  {
   "cell_type": "code",
   "execution_count": 15,
   "metadata": {},
   "outputs": [
    {
     "data": {
      "text/plain": [
       "[<DML 'SELECT' at 0x7F9B8030CCA8>,\n",
       " <Whitespace ' ' at 0x7F9B80308408>,\n",
       " <Name 'TOP' at 0x7F9B803083A8>,\n",
       " <Whitespace ' ' at 0x7F9B803082E8>,\n",
       " <Integer '10' at 0x7F9B80308288>,\n",
       " <Whitespace ' ' at 0x7F9B80308348>,\n",
       " <Name 'foo' at 0x7F9B80308468>,\n",
       " <Punctuation ',' at 0x7F9B80308588>,\n",
       " <Whitespace ' ' at 0x7F9B803085E8>,\n",
       " <Name 'bar' at 0x7F9B80308648>,\n",
       " <Whitespace ' ' at 0x7F9B803086A8>,\n",
       " <Keyword 'FROM' at 0x7F9B80308708>,\n",
       " <Whitespace ' ' at 0x7F9B80308768>,\n",
       " <Name 'foo' at 0x7F9B803087C8>,\n",
       " <Whitespace ' ' at 0x7F9B80308828>,\n",
       " <Keyword 'LIMIT' at 0x7F9B80308888>,\n",
       " <Whitespace ' ' at 0x7F9B803088E8>,\n",
       " <Integer '4' at 0x7F9B80308948>,\n",
       " <Punctuation ';' at 0x7F9B803089A8>,\n",
       " <Whitespace ' ' at 0x7F9B80308A08>]"
      ]
     },
     "execution_count": 15,
     "metadata": {},
     "output_type": "execute_result"
    }
   ],
   "source": [
    "sql = \"SELECT TOP 10 foo, bar FROM foo LIMIT 4; \"\n",
    "query = sqlparse.parse(sql)\n",
    "tokens = list(query[0].flatten())\n",
    "tokens"
   ]
  },
  {
   "cell_type": "code",
   "execution_count": 18,
   "metadata": {},
   "outputs": [
    {
     "data": {
      "text/plain": [
       "Token.Literal.Number.Integer"
      ]
     },
     "execution_count": 18,
     "metadata": {},
     "output_type": "execute_result"
    }
   ],
   "source": [
    "tokens[-3].ttype"
   ]
  },
  {
   "cell_type": "code",
   "execution_count": 47,
   "metadata": {},
   "outputs": [
    {
     "data": {
      "text/plain": [
       "'DWNWIWNPWNWKWNWKWIPW'"
      ]
     },
     "execution_count": 47,
     "metadata": {},
     "output_type": "execute_result"
    }
   ],
   "source": [
    "st = ''.join(repr(token)[1] for token in tokens)\n",
    "st"
   ]
  },
  {
   "cell_type": "code",
   "execution_count": 32,
   "metadata": {},
   "outputs": [],
   "source": [
    "match = re.search(r\"KW+I[P]?W*$\", st)"
   ]
  },
  {
   "cell_type": "code",
   "execution_count": 34,
   "metadata": {},
   "outputs": [
    {
     "data": {
      "text/plain": [
       "<_sre.SRE_Match object; span=(15, 20), match='KWIPW'>"
      ]
     },
     "execution_count": 34,
     "metadata": {},
     "output_type": "execute_result"
    }
   ],
   "source": [
    "match"
   ]
  },
  {
   "cell_type": "code",
   "execution_count": 42,
   "metadata": {},
   "outputs": [],
   "source": [
    "match2 = re.search(r\"KW+(?=I)\", match.group(0))"
   ]
  },
  {
   "cell_type": "code",
   "execution_count": 49,
   "metadata": {},
   "outputs": [
    {
     "data": {
      "text/plain": [
       "'I'"
      ]
     },
     "execution_count": 49,
     "metadata": {},
     "output_type": "execute_result"
    }
   ],
   "source": [
    "st[match2.span()[1] + match.span()[0]]"
   ]
  },
  {
   "cell_type": "code",
   "execution_count": 50,
   "metadata": {},
   "outputs": [],
   "source": [
    "tokens.insert(len(tokens)-2, sqlparse.sql.Token(sqlparse.tokens.Keyword, \"OFFSET\"))"
   ]
  },
  {
   "cell_type": "code",
   "execution_count": 51,
   "metadata": {},
   "outputs": [
    {
     "data": {
      "text/plain": [
       "[<DML 'SELECT' at 0x7F9B8030CCA8>,\n",
       " <Whitespace ' ' at 0x7F9B80308408>,\n",
       " <Name 'TOP' at 0x7F9B803083A8>,\n",
       " <Whitespace ' ' at 0x7F9B803082E8>,\n",
       " <Integer '10' at 0x7F9B80308288>,\n",
       " <Whitespace ' ' at 0x7F9B80308348>,\n",
       " <Name 'foo' at 0x7F9B80308468>,\n",
       " <Punctuation ',' at 0x7F9B80308588>,\n",
       " <Whitespace ' ' at 0x7F9B803085E8>,\n",
       " <Name 'bar' at 0x7F9B80308648>,\n",
       " <Whitespace ' ' at 0x7F9B803086A8>,\n",
       " <Keyword 'FROM' at 0x7F9B80308708>,\n",
       " <Whitespace ' ' at 0x7F9B80308768>,\n",
       " <Name 'foo' at 0x7F9B803087C8>,\n",
       " <Whitespace ' ' at 0x7F9B80308828>,\n",
       " <Keyword 'LIMIT' at 0x7F9B80308888>,\n",
       " <Whitespace ' ' at 0x7F9B803088E8>,\n",
       " <Integer '4' at 0x7F9B80308948>,\n",
       " <Keyword 'OFFSET' at 0x7F9B80308E88>,\n",
       " <Punctuation ';' at 0x7F9B803089A8>,\n",
       " <Whitespace ' ' at 0x7F9B80308A08>]"
      ]
     },
     "execution_count": 51,
     "metadata": {},
     "output_type": "execute_result"
    }
   ],
   "source": [
    "tokens"
   ]
  },
  {
   "cell_type": "code",
   "execution_count": 54,
   "metadata": {},
   "outputs": [],
   "source": [
    "tokens.insert(len(tokens)-4, sqlparse.sql.Token(sqlparse.tokens.Whitespace, \" \"))"
   ]
  },
  {
   "cell_type": "code",
   "execution_count": 55,
   "metadata": {},
   "outputs": [
    {
     "data": {
      "text/plain": [
       "[<DML 'SELECT' at 0x7F9B8030CCA8>,\n",
       " <Whitespace ' ' at 0x7F9B80308408>,\n",
       " <Name 'TOP' at 0x7F9B803083A8>,\n",
       " <Whitespace ' ' at 0x7F9B803082E8>,\n",
       " <Integer '10' at 0x7F9B80308288>,\n",
       " <Whitespace ' ' at 0x7F9B80308348>,\n",
       " <Name 'foo' at 0x7F9B80308468>,\n",
       " <Punctuation ',' at 0x7F9B80308588>,\n",
       " <Whitespace ' ' at 0x7F9B803085E8>,\n",
       " <Name 'bar' at 0x7F9B80308648>,\n",
       " <Whitespace ' ' at 0x7F9B803086A8>,\n",
       " <Keyword 'FROM' at 0x7F9B80308708>,\n",
       " <Whitespace ' ' at 0x7F9B80308768>,\n",
       " <Name 'foo' at 0x7F9B803087C8>,\n",
       " <Whitespace ' ' at 0x7F9B80308828>,\n",
       " <Keyword 'LIMIT' at 0x7F9B80308888>,\n",
       " <Whitespace ' ' at 0x7F9B803088E8>,\n",
       " <Integer '4' at 0x7F9B80308948>,\n",
       " <Whitespace ' ' at 0x7F9B8030CBE8>,\n",
       " <Keyword 'OFFSET' at 0x7F9B80308E88>,\n",
       " <Whitespace ' ' at 0x7F9B8030CA68>,\n",
       " <Punctuation ';' at 0x7F9B803089A8>,\n",
       " <Whitespace ' ' at 0x7F9B80308A08>]"
      ]
     },
     "execution_count": 55,
     "metadata": {},
     "output_type": "execute_result"
    }
   ],
   "source": [
    "tokens"
   ]
  },
  {
   "cell_type": "code",
   "execution_count": 56,
   "metadata": {},
   "outputs": [],
   "source": [
    "tokens.insert(len(tokens)-2, sqlparse.sql.Token(sqlparse.tokens.Literal.Number.Integer, \"10\"))"
   ]
  },
  {
   "cell_type": "code",
   "execution_count": 57,
   "metadata": {},
   "outputs": [
    {
     "data": {
      "text/plain": [
       "[<DML 'SELECT' at 0x7F9B8030CCA8>,\n",
       " <Whitespace ' ' at 0x7F9B80308408>,\n",
       " <Name 'TOP' at 0x7F9B803083A8>,\n",
       " <Whitespace ' ' at 0x7F9B803082E8>,\n",
       " <Integer '10' at 0x7F9B80308288>,\n",
       " <Whitespace ' ' at 0x7F9B80308348>,\n",
       " <Name 'foo' at 0x7F9B80308468>,\n",
       " <Punctuation ',' at 0x7F9B80308588>,\n",
       " <Whitespace ' ' at 0x7F9B803085E8>,\n",
       " <Name 'bar' at 0x7F9B80308648>,\n",
       " <Whitespace ' ' at 0x7F9B803086A8>,\n",
       " <Keyword 'FROM' at 0x7F9B80308708>,\n",
       " <Whitespace ' ' at 0x7F9B80308768>,\n",
       " <Name 'foo' at 0x7F9B803087C8>,\n",
       " <Whitespace ' ' at 0x7F9B80308828>,\n",
       " <Keyword 'LIMIT' at 0x7F9B80308888>,\n",
       " <Whitespace ' ' at 0x7F9B803088E8>,\n",
       " <Integer '4' at 0x7F9B80308948>,\n",
       " <Whitespace ' ' at 0x7F9B8030CBE8>,\n",
       " <Keyword 'OFFSET' at 0x7F9B80308E88>,\n",
       " <Whitespace ' ' at 0x7F9B8030CA68>,\n",
       " <Integer '10' at 0x7F9B8030CB88>,\n",
       " <Punctuation ';' at 0x7F9B803089A8>,\n",
       " <Whitespace ' ' at 0x7F9B80308A08>]"
      ]
     },
     "execution_count": 57,
     "metadata": {},
     "output_type": "execute_result"
    }
   ],
   "source": [
    "tokens"
   ]
  },
  {
   "cell_type": "code",
   "execution_count": 58,
   "metadata": {},
   "outputs": [
    {
     "data": {
      "text/plain": [
       "'SELECT TOP 10 foo, bar FROM foo LIMIT 4 OFFSET 10; '"
      ]
     },
     "execution_count": 58,
     "metadata": {},
     "output_type": "execute_result"
    }
   ],
   "source": [
    "str(sqlparse.sql.TokenList(tokens))"
   ]
  },
  {
   "cell_type": "code",
   "execution_count": null,
   "metadata": {},
   "outputs": [],
   "source": []
  }
 ],
 "metadata": {
  "kernelspec": {
   "display_name": "Python 3",
   "language": "python",
   "name": "python3"
  },
  "language_info": {
   "codemirror_mode": {
    "name": "ipython",
    "version": 3
   },
   "file_extension": ".py",
   "mimetype": "text/x-python",
   "name": "python",
   "nbconvert_exporter": "python",
   "pygments_lexer": "ipython3",
   "version": "3.6.10"
  }
 },
 "nbformat": 4,
 "nbformat_minor": 4
}
