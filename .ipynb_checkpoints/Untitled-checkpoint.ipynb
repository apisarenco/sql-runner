{
 "cells": [
  {
   "cell_type": "code",
   "execution_count": 1,
   "metadata": {},
   "outputs": [],
   "source": [
    "import sqlparse"
   ]
  },
  {
   "cell_type": "code",
   "execution_count": 2,
   "metadata": {},
   "outputs": [],
   "source": [
    "import re"
   ]
  },
  {
   "cell_type": "code",
   "execution_count": 12,
   "metadata": {},
   "outputs": [
    {
     "data": {
      "text/plain": [
       "[<DML 'SELECT' at 0x7F9B8030AAC8>,\n",
       " <Whitespace ' ' at 0x7F9B8030AA08>,\n",
       " <Identifier 'TOP' at 0x7F9B8030E048>,\n",
       " <Whitespace ' ' at 0x7F9B8030AA68>,\n",
       " <IdentifierList '10 foo...' at 0x7F9B8030E2A0>,\n",
       " <Whitespace ' ' at 0x7F9B8030AE28>,\n",
       " <Keyword 'FROM' at 0x7F9B8030AE88>,\n",
       " <Whitespace ' ' at 0x7F9B8030AEE8>,\n",
       " <Identifier 'foo' at 0x7F9B8030E1B0>,\n",
       " <Whitespace ' ' at 0x7F9B8030AFA8>,\n",
       " <Keyword 'LIMIT' at 0x7F9B8030C048>,\n",
       " <Whitespace ' ' at 0x7F9B8030C0A8>,\n",
       " <Integer '4' at 0x7F9B8030C108>,\n",
       " <Punctuation ';' at 0x7F9B8030C168>,\n",
       " <Whitespace ' ' at 0x7F9B8030C1C8>]"
      ]
     },
     "execution_count": 12,
     "metadata": {},
     "output_type": "execute_result"
    }
   ],
   "source": [
    "sql = \"SELECT TOP 10 foo, bar FROM foo LIMIT 4; \"\n",
    "query = sqlparse.parse(sql)\n",
    "tokens = list(flatten(query[0]))\n",
    "tokens"
   ]
  },
  {
   "cell_type": "code",
   "execution_count": null,
   "metadata": {},
   "outputs": [],
   "source": []
  }
 ],
 "metadata": {
  "kernelspec": {
   "display_name": "Python 3",
   "language": "python",
   "name": "python3"
  },
  "language_info": {
   "codemirror_mode": {
    "name": "ipython",
    "version": 3
   },
   "file_extension": ".py",
   "mimetype": "text/x-python",
   "name": "python",
   "nbconvert_exporter": "python",
   "pygments_lexer": "ipython3",
   "version": "3.6.10"
  }
 },
 "nbformat": 4,
 "nbformat_minor": 4
}
